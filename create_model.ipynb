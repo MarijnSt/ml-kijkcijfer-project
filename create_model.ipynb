{
 "cells": [
  {
   "cell_type": "markdown",
   "metadata": {},
   "source": [
    "# Import packages"
   ]
  },
  {
   "cell_type": "code",
   "execution_count": 1,
   "metadata": {},
   "outputs": [],
   "source": [
    "import sys\n",
    "import sklearn\n",
    "import numpy as np\n",
    "import pandas as pd\n",
    "import os\n",
    "import matplotlib as mpl\n",
    "import matplotlib.pyplot as plt\n",
    "from datetime import datetime"
   ]
  },
  {
   "cell_type": "markdown",
   "metadata": {},
   "source": [
    "# Get the data"
   ]
  },
  {
   "cell_type": "markdown",
   "metadata": {},
   "source": [
    "## Preparation of ratings data"
   ]
  },
  {
   "cell_type": "code",
   "execution_count": 37,
   "metadata": {},
   "outputs": [
    {
     "name": "stdout",
     "output_type": "stream",
     "text": [
      "<class 'pandas.core.frame.DataFrame'>\n",
      "Index: 63249 entries, 0 to 63249\n",
      "Data columns (total 6 columns):\n",
      " #   Column     Non-Null Count  Dtype \n",
      "---  ------     --------------  ----- \n",
      " 0   Programma  63249 non-null  object\n",
      " 1   Zender     63249 non-null  object\n",
      " 2   Datum      63249 non-null  object\n",
      " 3   Start      63249 non-null  object\n",
      " 4   Duur       63249 non-null  object\n",
      " 5   Kijkers    63249 non-null  object\n",
      "dtypes: object(6)\n",
      "memory usage: 3.4+ MB\n"
     ]
    }
   ],
   "source": [
    "ratings_df = pd.read_csv('data/ratings.csv')\n",
    "\n",
    "# Drop na values\n",
    "ratings_df = ratings_df.dropna()\n",
    "ratings_df.info()"
   ]
  },
  {
   "cell_type": "markdown",
   "metadata": {},
   "source": [
    "Converting the \"Kijkers\" column to an integer type does require some extra cleanup:"
   ]
  },
  {
   "cell_type": "code",
   "execution_count": 38,
   "metadata": {},
   "outputs": [
    {
     "name": "stdout",
     "output_type": "stream",
     "text": [
      "Number of rows with non-numeric values: 1\n",
      "<class 'pandas.core.frame.DataFrame'>\n",
      "Index: 63248 entries, 0 to 63249\n",
      "Data columns (total 6 columns):\n",
      " #   Column     Non-Null Count  Dtype \n",
      "---  ------     --------------  ----- \n",
      " 0   Programma  63248 non-null  object\n",
      " 1   Zender     63248 non-null  object\n",
      " 2   Datum      63248 non-null  object\n",
      " 3   Start      63248 non-null  object\n",
      " 4   Duur       63248 non-null  object\n",
      " 5   Kijkers    63248 non-null  int64 \n",
      "dtypes: int64(1), object(5)\n",
      "memory usage: 3.4+ MB\n"
     ]
    }
   ],
   "source": [
    "# Change notation of numbers (use dots as decimal separators instead of thousand separators)\n",
    "ratings_df['Kijkers'] = ratings_df['Kijkers'].str.replace('.', '').str.replace(',', '.')\n",
    "\n",
    "# Convert to float first (to handle decimal numbers). Non numeric will result in NaN\n",
    "ratings_df['Kijkers'] = pd.to_numeric(ratings_df['Kijkers'], errors='coerce')\n",
    "\n",
    "# Remove NaN values\n",
    "print(f\"Number of rows with non-numeric values: {ratings_df['Kijkers'].isna().sum()}\")\n",
    "ratings_df = ratings_df.dropna(subset=['Kijkers'])\n",
    "\n",
    "# Then convert to integer (this will round the decimal numbers)\n",
    "ratings_df['Kijkers'] = ratings_df['Kijkers'].astype(int)\n",
    "\n",
    "ratings_df.info()"
   ]
  },
  {
   "cell_type": "code",
   "execution_count": 39,
   "metadata": {},
   "outputs": [
    {
     "data": {
      "text/html": [
       "<div>\n",
       "<style scoped>\n",
       "    .dataframe tbody tr th:only-of-type {\n",
       "        vertical-align: middle;\n",
       "    }\n",
       "\n",
       "    .dataframe tbody tr th {\n",
       "        vertical-align: top;\n",
       "    }\n",
       "\n",
       "    .dataframe thead th {\n",
       "        text-align: right;\n",
       "    }\n",
       "</style>\n",
       "<table border=\"1\" class=\"dataframe\">\n",
       "  <thead>\n",
       "    <tr style=\"text-align: right;\">\n",
       "      <th></th>\n",
       "      <th>Programma</th>\n",
       "      <th>Zender</th>\n",
       "      <th>Datum</th>\n",
       "      <th>Start</th>\n",
       "      <th>Duur</th>\n",
       "      <th>Kijkers</th>\n",
       "    </tr>\n",
       "  </thead>\n",
       "  <tbody>\n",
       "    <tr>\n",
       "      <th>0</th>\n",
       "      <td>HET 7 UUR-JOURNAAL</td>\n",
       "      <td>EEN</td>\n",
       "      <td>2016-10-01T00:00:00.000000</td>\n",
       "      <td>19:00:05</td>\n",
       "      <td>00:31:38</td>\n",
       "      <td>721850</td>\n",
       "    </tr>\n",
       "    <tr>\n",
       "      <th>1</th>\n",
       "      <td>FC DE KAMPIOENEN</td>\n",
       "      <td>EEN</td>\n",
       "      <td>2016-10-01T00:00:00.000000</td>\n",
       "      <td>20:41:00</td>\n",
       "      <td>00:38:39</td>\n",
       "      <td>709606</td>\n",
       "    </tr>\n",
       "    <tr>\n",
       "      <th>2</th>\n",
       "      <td>WEG ZIJN WIJ</td>\n",
       "      <td>EEN</td>\n",
       "      <td>2016-10-01T00:00:00.000000</td>\n",
       "      <td>20:13:36</td>\n",
       "      <td>00:24:44</td>\n",
       "      <td>548239</td>\n",
       "    </tr>\n",
       "    <tr>\n",
       "      <th>3</th>\n",
       "      <td>IEDEREEN BEROEMD</td>\n",
       "      <td>EEN</td>\n",
       "      <td>2016-10-01T00:00:00.000000</td>\n",
       "      <td>19:38:10</td>\n",
       "      <td>00:29:01</td>\n",
       "      <td>523610</td>\n",
       "    </tr>\n",
       "    <tr>\n",
       "      <th>4</th>\n",
       "      <td>COMEDY TOPPERS</td>\n",
       "      <td>VTM</td>\n",
       "      <td>2016-10-01T00:00:00.000000</td>\n",
       "      <td>19:52:06</td>\n",
       "      <td>00:24:40</td>\n",
       "      <td>496216</td>\n",
       "    </tr>\n",
       "  </tbody>\n",
       "</table>\n",
       "</div>"
      ],
      "text/plain": [
       "            Programma Zender                       Datum     Start      Duur  \\\n",
       "0  HET 7 UUR-JOURNAAL    EEN  2016-10-01T00:00:00.000000  19:00:05  00:31:38   \n",
       "1    FC DE KAMPIOENEN    EEN  2016-10-01T00:00:00.000000  20:41:00  00:38:39   \n",
       "2        WEG ZIJN WIJ    EEN  2016-10-01T00:00:00.000000  20:13:36  00:24:44   \n",
       "3    IEDEREEN BEROEMD    EEN  2016-10-01T00:00:00.000000  19:38:10  00:29:01   \n",
       "4      COMEDY TOPPERS    VTM  2016-10-01T00:00:00.000000  19:52:06  00:24:40   \n",
       "\n",
       "   Kijkers  \n",
       "0   721850  \n",
       "1   709606  \n",
       "2   548239  \n",
       "3   523610  \n",
       "4   496216  "
      ]
     },
     "execution_count": 39,
     "metadata": {},
     "output_type": "execute_result"
    }
   ],
   "source": [
    "ratings_df.head()"
   ]
  }
 ],
 "metadata": {
  "kernelspec": {
   "display_name": "base",
   "language": "python",
   "name": "python3"
  },
  "language_info": {
   "codemirror_mode": {
    "name": "ipython",
    "version": 3
   },
   "file_extension": ".py",
   "mimetype": "text/x-python",
   "name": "python",
   "nbconvert_exporter": "python",
   "pygments_lexer": "ipython3",
   "version": "3.12.7"
  }
 },
 "nbformat": 4,
 "nbformat_minor": 2
}
